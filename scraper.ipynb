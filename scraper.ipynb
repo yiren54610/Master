{
 "cells": [
  {
   "cell_type": "markdown",
   "id": "39b34f7a",
   "metadata": {},
   "source": [
    "### Google Image Search Scraper"
   ]
  },
  {
   "cell_type": "code",
   "execution_count": 96,
   "id": "a731adf1",
   "metadata": {},
   "outputs": [],
   "source": [
    "import pandas as pd\n",
    "import time"
   ]
  },
  {
   "cell_type": "code",
   "execution_count": 1,
   "id": "7a0d2de9",
   "metadata": {},
   "outputs": [],
   "source": [
    "from dotenv import load_dotenv\n",
    "import os\n",
    "from serpapi import GoogleSearch\n",
    "load_dotenv() \n",
    "SCRAPERAPI_KEY = os.getenv(\"serp_api_key\")"
   ]
  },
  {
   "cell_type": "code",
   "execution_count": null,
   "id": "403c0855",
   "metadata": {},
   "outputs": [],
   "source": [
    "top_search_people = ['Donald Trump','Kamala Harris','JD Vance','Joe Biden','Catherine, Princess of Wales','Tim Walz','Mike Tyson','Jill Stein','Usher','Imane Khelif']"
   ]
  },
  {
   "cell_type": "code",
   "execution_count": null,
   "id": "fe38bc7d",
   "metadata": {},
   "outputs": [],
   "source": [
    "params = {\n",
    "    \"engine\": \"google_images\",\n",
    "    \"hl\": \"en\",\n",
    "    \"gl\": \"us\",\n",
    "    \"api_key\":  SCRAPERAPI_KEY \n",
    "    }"
   ]
  },
  {
   "cell_type": "code",
   "execution_count": 11,
   "id": "c5b1d172",
   "metadata": {},
   "outputs": [],
   "source": [
    "all_results = []\n",
    "\n",
    "for ppl in top_search_people:\n",
    "    params[\"q\"] = ppl\n",
    "    search = GoogleSearch(params)\n",
    "    results = search.get_dict()\n",
    "\n",
    "    images_results = results.get(\"images_results\", [])  # use .get to avoid errors if missing\n",
    "\n",
    "    for image in images_results:\n",
    "        all_results.append({\n",
    "            \"ppl\": ppl,\n",
    "            \"position\": image.get(\"position\"),\n",
    "            \"thumbnail\": image.get(\"thumbnail\"),\n",
    "            \"source\": image.get(\"source\"),\n",
    "            \"source_logo\": image.get(\"source_logo\"),\n",
    "            \"title\": image.get(\"title\"),\n",
    "            \"link\": image.get(\"link\"),\n",
    "            \"original\": image.get(\"original\")\n",
    "        })\n",
    "\n",
    "df = pd.DataFrame(all_results)\n",
    "\n",
    "    \n",
    "    "
   ]
  },
  {
   "cell_type": "code",
   "execution_count": 13,
   "id": "98219e8c",
   "metadata": {},
   "outputs": [
    {
     "data": {
      "text/plain": [
       "(1000, 8)"
      ]
     },
     "execution_count": 13,
     "metadata": {},
     "output_type": "execute_result"
    }
   ],
   "source": [
    "df.shape"
   ]
  },
  {
   "cell_type": "code",
   "execution_count": 20,
   "id": "02b5dec6",
   "metadata": {},
   "outputs": [
    {
     "data": {
      "text/html": [
       "<div>\n",
       "<style scoped>\n",
       "    .dataframe tbody tr th:only-of-type {\n",
       "        vertical-align: middle;\n",
       "    }\n",
       "\n",
       "    .dataframe tbody tr th {\n",
       "        vertical-align: top;\n",
       "    }\n",
       "\n",
       "    .dataframe thead th {\n",
       "        text-align: right;\n",
       "    }\n",
       "</style>\n",
       "<table border=\"1\" class=\"dataframe\">\n",
       "  <thead>\n",
       "    <tr style=\"text-align: right;\">\n",
       "      <th></th>\n",
       "      <th>ppl</th>\n",
       "      <th>position</th>\n",
       "      <th>thumbnail</th>\n",
       "      <th>source</th>\n",
       "      <th>source_logo</th>\n",
       "      <th>title</th>\n",
       "      <th>link</th>\n",
       "      <th>original</th>\n",
       "    </tr>\n",
       "  </thead>\n",
       "  <tbody>\n",
       "    <tr>\n",
       "      <th>0</th>\n",
       "      <td>Donald Trump</td>\n",
       "      <td>1</td>\n",
       "      <td>https://encrypted-tbn0.gstatic.com/images?q=tb...</td>\n",
       "      <td>Wikipedia, the free encyclopedia</td>\n",
       "      <td>https://encrypted-tbn1.gstatic.com/faviconV2?u...</td>\n",
       "      <td>Donald Trump - Wikipedia</td>\n",
       "      <td>https://en.wikipedia.org/wiki/Donald_Trump</td>\n",
       "      <td>https://upload.wikimedia.org/wikipedia/commons...</td>\n",
       "    </tr>\n",
       "    <tr>\n",
       "      <th>1</th>\n",
       "      <td>Donald Trump</td>\n",
       "      <td>2</td>\n",
       "      <td>https://encrypted-tbn0.gstatic.com/images?q=tb...</td>\n",
       "      <td>Wikipedia, the free encyclopedia</td>\n",
       "      <td>https://encrypted-tbn1.gstatic.com/faviconV2?u...</td>\n",
       "      <td>Donald Trump - Wikipedia</td>\n",
       "      <td>https://en.wikipedia.org/wiki/Donald_Trump</td>\n",
       "      <td>https://upload.wikimedia.org/wikipedia/commons...</td>\n",
       "    </tr>\n",
       "    <tr>\n",
       "      <th>2</th>\n",
       "      <td>Donald Trump</td>\n",
       "      <td>3</td>\n",
       "      <td>https://encrypted-tbn0.gstatic.com/images?q=tb...</td>\n",
       "      <td>The White House</td>\n",
       "      <td>https://encrypted-tbn1.gstatic.com/faviconV2?u...</td>\n",
       "      <td>President Donald J. Trump</td>\n",
       "      <td>https://www.whitehouse.gov/administration/dona...</td>\n",
       "      <td>https://www.whitehouse.gov/wp-content/uploads/...</td>\n",
       "    </tr>\n",
       "    <tr>\n",
       "      <th>3</th>\n",
       "      <td>Donald Trump</td>\n",
       "      <td>4</td>\n",
       "      <td>https://encrypted-tbn0.gstatic.com/images?q=tb...</td>\n",
       "      <td>History.com</td>\n",
       "      <td>https://encrypted-tbn1.gstatic.com/faviconV2?u...</td>\n",
       "      <td>Donald Trump: Presidency, Family, Education | ...</td>\n",
       "      <td>https://www.history.com/articles/donald-trump</td>\n",
       "      <td>https://res.cloudinary.com/aenetworks/image/up...</td>\n",
       "    </tr>\n",
       "    <tr>\n",
       "      <th>4</th>\n",
       "      <td>Donald Trump</td>\n",
       "      <td>5</td>\n",
       "      <td>https://encrypted-tbn0.gstatic.com/images?q=tb...</td>\n",
       "      <td>Biography</td>\n",
       "      <td>https://encrypted-tbn1.gstatic.com/faviconV2?u...</td>\n",
       "      <td>Donald Trump: Biography, U.S. President, Busin...</td>\n",
       "      <td>https://www.biography.com/political-figures/do...</td>\n",
       "      <td>https://hips.hearstapps.com/hmg-prod/images/ge...</td>\n",
       "    </tr>\n",
       "  </tbody>\n",
       "</table>\n",
       "</div>"
      ],
      "text/plain": [
       "            ppl  position                                          thumbnail  \\\n",
       "0  Donald Trump         1  https://encrypted-tbn0.gstatic.com/images?q=tb...   \n",
       "1  Donald Trump         2  https://encrypted-tbn0.gstatic.com/images?q=tb...   \n",
       "2  Donald Trump         3  https://encrypted-tbn0.gstatic.com/images?q=tb...   \n",
       "3  Donald Trump         4  https://encrypted-tbn0.gstatic.com/images?q=tb...   \n",
       "4  Donald Trump         5  https://encrypted-tbn0.gstatic.com/images?q=tb...   \n",
       "\n",
       "                             source  \\\n",
       "0  Wikipedia, the free encyclopedia   \n",
       "1  Wikipedia, the free encyclopedia   \n",
       "2                   The White House   \n",
       "3                       History.com   \n",
       "4                         Biography   \n",
       "\n",
       "                                         source_logo  \\\n",
       "0  https://encrypted-tbn1.gstatic.com/faviconV2?u...   \n",
       "1  https://encrypted-tbn1.gstatic.com/faviconV2?u...   \n",
       "2  https://encrypted-tbn1.gstatic.com/faviconV2?u...   \n",
       "3  https://encrypted-tbn1.gstatic.com/faviconV2?u...   \n",
       "4  https://encrypted-tbn1.gstatic.com/faviconV2?u...   \n",
       "\n",
       "                                               title  \\\n",
       "0                           Donald Trump - Wikipedia   \n",
       "1                           Donald Trump - Wikipedia   \n",
       "2                          President Donald J. Trump   \n",
       "3  Donald Trump: Presidency, Family, Education | ...   \n",
       "4  Donald Trump: Biography, U.S. President, Busin...   \n",
       "\n",
       "                                                link  \\\n",
       "0         https://en.wikipedia.org/wiki/Donald_Trump   \n",
       "1         https://en.wikipedia.org/wiki/Donald_Trump   \n",
       "2  https://www.whitehouse.gov/administration/dona...   \n",
       "3      https://www.history.com/articles/donald-trump   \n",
       "4  https://www.biography.com/political-figures/do...   \n",
       "\n",
       "                                            original  \n",
       "0  https://upload.wikimedia.org/wikipedia/commons...  \n",
       "1  https://upload.wikimedia.org/wikipedia/commons...  \n",
       "2  https://www.whitehouse.gov/wp-content/uploads/...  \n",
       "3  https://res.cloudinary.com/aenetworks/image/up...  \n",
       "4  https://hips.hearstapps.com/hmg-prod/images/ge...  "
      ]
     },
     "execution_count": 20,
     "metadata": {},
     "output_type": "execute_result"
    }
   ],
   "source": [
    "df.head()"
   ]
  },
  {
   "cell_type": "code",
   "execution_count": 15,
   "id": "ad5ccc5a",
   "metadata": {},
   "outputs": [],
   "source": [
    "df.to_csv('top_search_ppl.csv', index=False)"
   ]
  },
  {
   "cell_type": "markdown",
   "id": "9a121deb",
   "metadata": {},
   "source": [
    "### sightengine"
   ]
  },
  {
   "cell_type": "code",
   "execution_count": 14,
   "id": "6723515c",
   "metadata": {},
   "outputs": [],
   "source": [
    "import requests\n",
    "import json"
   ]
  },
  {
   "cell_type": "code",
   "execution_count": 17,
   "id": "9aa161e5",
   "metadata": {},
   "outputs": [],
   "source": [
    "load_dotenv() \n",
    "api_secret = os.getenv(\"sight_engine\")\n"
   ]
  },
  {
   "cell_type": "code",
   "execution_count": 19,
   "id": "ecf6899d",
   "metadata": {},
   "outputs": [],
   "source": [
    "def check_ai_generated(url, results_list):\n",
    "    try:\n",
    "        params = {\n",
    "            'url': url,\n",
    "            'models': 'genai',\n",
    "            'api_user': '909396887',\n",
    "  'api_secret': api_secret\n",
    "        }\n",
    "        r = requests.get('https://api.sightengine.com/1.0/check.json', params=params)\n",
    "        output = json.loads(r.text)\n",
    "        score = output['type']['ai_generated']\n",
    "        results_list.append(score)\n",
    "\n",
    "    except Exception as e:\n",
    "        score = \"error\"\n",
    "        results_list.append(score)\n"
   ]
  },
  {
   "cell_type": "code",
   "execution_count": 22,
   "id": "34ccd63a",
   "metadata": {},
   "outputs": [],
   "source": [
    "urls = df['thumbnail'].tolist()"
   ]
  },
  {
   "cell_type": "code",
   "execution_count": 23,
   "id": "cb3eb9c7",
   "metadata": {},
   "outputs": [],
   "source": [
    "sightengine = []\n",
    "for url in urls:\n",
    "    check_ai_generated(url, sightengine)\n",
    "df['sightengine'] = sightengine"
   ]
  },
  {
   "cell_type": "code",
   "execution_count": 46,
   "id": "312c45cf",
   "metadata": {},
   "outputs": [
    {
     "data": {
      "text/html": [
       "<div>\n",
       "<style scoped>\n",
       "    .dataframe tbody tr th:only-of-type {\n",
       "        vertical-align: middle;\n",
       "    }\n",
       "\n",
       "    .dataframe tbody tr th {\n",
       "        vertical-align: top;\n",
       "    }\n",
       "\n",
       "    .dataframe thead th {\n",
       "        text-align: right;\n",
       "    }\n",
       "</style>\n",
       "<table border=\"1\" class=\"dataframe\">\n",
       "  <thead>\n",
       "    <tr style=\"text-align: right;\">\n",
       "      <th></th>\n",
       "      <th>ppl</th>\n",
       "      <th>position</th>\n",
       "      <th>thumbnail</th>\n",
       "      <th>source</th>\n",
       "      <th>source_logo</th>\n",
       "      <th>title</th>\n",
       "      <th>link</th>\n",
       "      <th>original</th>\n",
       "      <th>sightengine</th>\n",
       "    </tr>\n",
       "  </thead>\n",
       "  <tbody>\n",
       "  </tbody>\n",
       "</table>\n",
       "</div>"
      ],
      "text/plain": [
       "Empty DataFrame\n",
       "Columns: [ppl, position, thumbnail, source, source_logo, title, link, original, sightengine]\n",
       "Index: []"
      ]
     },
     "execution_count": 46,
     "metadata": {},
     "output_type": "execute_result"
    }
   ],
   "source": [
    "df['sightengine'] = pd.to_numeric(df['sightengine'], errors='coerce')\n",
    "df[df['sightengine'] > 0.1]"
   ]
  },
  {
   "cell_type": "code",
   "execution_count": 29,
   "id": "72ec5d0a",
   "metadata": {},
   "outputs": [
    {
     "data": {
      "text/plain": [
       "[]"
      ]
     },
     "execution_count": 29,
     "metadata": {},
     "output_type": "execute_result"
    }
   ],
   "source": [
    "df[df['sightengine'] > 0.5]['thumbnail'].to_list()"
   ]
  },
  {
   "cell_type": "code",
   "execution_count": 36,
   "id": "931d3852",
   "metadata": {},
   "outputs": [],
   "source": [
    "df.to_csv('google_top_search_ppl.csv', index=False)"
   ]
  },
  {
   "cell_type": "markdown",
   "id": "d1cce4ef",
   "metadata": {},
   "source": [
    "### Bing Top people search"
   ]
  },
  {
   "cell_type": "code",
   "execution_count": 38,
   "id": "17c96e60",
   "metadata": {},
   "outputs": [],
   "source": [
    "params = {\n",
    "    \"engine\": \"bing_images\",\n",
    "    \"hl\": \"en\",\n",
    "    \"gl\": \"us\",\n",
    "    \"api_key\":  SCRAPERAPI_KEY \n",
    "    }"
   ]
  },
  {
   "cell_type": "code",
   "execution_count": 41,
   "id": "6aa637e3",
   "metadata": {},
   "outputs": [],
   "source": [
    "all_results = []\n",
    "\n",
    "for ppl in top_search_people:\n",
    "    params[\"q\"] = ppl\n",
    "    search = GoogleSearch(params)\n",
    "    results = search.get_dict()\n",
    "\n",
    "    images_results = results.get(\"images_results\", [])  # use .get to avoid errors if missing\n",
    "\n",
    "    for image in images_results:\n",
    "        all_results.append({\n",
    "            \"ppl\": ppl,\n",
    "            \"position\": image.get(\"position\"),\n",
    "            \"thumbnail\": image.get(\"thumbnail\"),\n",
    "            \"source\": image.get(\"source\"),\n",
    "            \"source_logo\": image.get(\"source_logo\"),\n",
    "            \"title\": image.get(\"title\"),\n",
    "            \"link\": image.get(\"link\"),\n",
    "            \"original\": image.get(\"original\")\n",
    "        })\n",
    "\n",
    "df2 = pd.DataFrame(all_results)"
   ]
  },
  {
   "cell_type": "code",
   "execution_count": 43,
   "id": "ee13a29b",
   "metadata": {},
   "outputs": [],
   "source": [
    "urls = df2['thumbnail'].tolist()\n",
    "sightengine = []\n",
    "for url in urls:\n",
    "    check_ai_generated(url, sightengine)\n",
    "df2['sightengine'] = sightengine\n"
   ]
  },
  {
   "cell_type": "code",
   "execution_count": 48,
   "id": "0796665d",
   "metadata": {},
   "outputs": [
    {
     "data": {
      "text/html": [
       "<div>\n",
       "<style scoped>\n",
       "    .dataframe tbody tr th:only-of-type {\n",
       "        vertical-align: middle;\n",
       "    }\n",
       "\n",
       "    .dataframe tbody tr th {\n",
       "        vertical-align: top;\n",
       "    }\n",
       "\n",
       "    .dataframe thead th {\n",
       "        text-align: right;\n",
       "    }\n",
       "</style>\n",
       "<table border=\"1\" class=\"dataframe\">\n",
       "  <thead>\n",
       "    <tr style=\"text-align: right;\">\n",
       "      <th></th>\n",
       "      <th>ppl</th>\n",
       "      <th>position</th>\n",
       "      <th>thumbnail</th>\n",
       "      <th>source</th>\n",
       "      <th>source_logo</th>\n",
       "      <th>title</th>\n",
       "      <th>link</th>\n",
       "      <th>original</th>\n",
       "      <th>sightengine</th>\n",
       "    </tr>\n",
       "  </thead>\n",
       "  <tbody>\n",
       "    <tr>\n",
       "      <th>452</th>\n",
       "      <td>Mike Tyson</td>\n",
       "      <td>20</td>\n",
       "      <td>https://ts2.explicit.bing.net/th?id=OIP.eQmvmF...</td>\n",
       "      <td>None</td>\n",
       "      <td>None</td>\n",
       "      <td>None</td>\n",
       "      <td>https://www.bing.com/images/search?view=detail...</td>\n",
       "      <td>https://tattoogunmachine.com/wp-content/upload...</td>\n",
       "      <td>0.99</td>\n",
       "    </tr>\n",
       "    <tr>\n",
       "      <th>508</th>\n",
       "      <td>Jill Stein</td>\n",
       "      <td>11</td>\n",
       "      <td>https://tse3.mm.bing.net/th/id/OIP._X5tf5rs9M8...</td>\n",
       "      <td>https://www.deviantart.com/suitan760/art/Jill-...</td>\n",
       "      <td>None</td>\n",
       "      <td>Jill Valentine - RE3 Remake by Suitan760 on De...</td>\n",
       "      <td>https://www.bing.com/images/search?view=detail...</td>\n",
       "      <td>https://images-wixmp-ed30a86b8c4ca887773594c2....</td>\n",
       "      <td>0.99</td>\n",
       "    </tr>\n",
       "  </tbody>\n",
       "</table>\n",
       "</div>"
      ],
      "text/plain": [
       "            ppl  position                                          thumbnail  \\\n",
       "452  Mike Tyson        20  https://ts2.explicit.bing.net/th?id=OIP.eQmvmF...   \n",
       "508  Jill Stein        11  https://tse3.mm.bing.net/th/id/OIP._X5tf5rs9M8...   \n",
       "\n",
       "                                                source source_logo  \\\n",
       "452                                               None        None   \n",
       "508  https://www.deviantart.com/suitan760/art/Jill-...        None   \n",
       "\n",
       "                                                 title  \\\n",
       "452                                               None   \n",
       "508  Jill Valentine - RE3 Remake by Suitan760 on De...   \n",
       "\n",
       "                                                  link  \\\n",
       "452  https://www.bing.com/images/search?view=detail...   \n",
       "508  https://www.bing.com/images/search?view=detail...   \n",
       "\n",
       "                                              original  sightengine  \n",
       "452  https://tattoogunmachine.com/wp-content/upload...         0.99  \n",
       "508  https://images-wixmp-ed30a86b8c4ca887773594c2....         0.99  "
      ]
     },
     "execution_count": 48,
     "metadata": {},
     "output_type": "execute_result"
    }
   ],
   "source": [
    "df2['sightengine'] = pd.to_numeric(df2['sightengine'], errors='coerce')\n",
    "df2[df2['sightengine'] > 0.3]"
   ]
  },
  {
   "cell_type": "code",
   "execution_count": 49,
   "id": "ff7cb4b6",
   "metadata": {},
   "outputs": [],
   "source": [
    "df2.to_csv('bing_top_search_ppl.csv', index=False)"
   ]
  },
  {
   "cell_type": "code",
   "execution_count": 50,
   "id": "353efe8d",
   "metadata": {},
   "outputs": [
    {
     "data": {
      "text/plain": [
       "['https://ts2.explicit.bing.net/th?id=OIP.eQmvmF7Bnu_exh1WWXNE1wHaHa&pid=15.1',\n",
       " 'https://tse3.mm.bing.net/th/id/OIP._X5tf5rs9M8R9o0-6NOXxAHaLZ?w=194&h=299&c=7&r=0&o=7&pid=1.7&rm=3']"
      ]
     },
     "execution_count": 50,
     "metadata": {},
     "output_type": "execute_result"
    }
   ],
   "source": [
    "df2[df2['sightengine'] > 0.3]['thumbnail'].to_list()"
   ]
  },
  {
   "cell_type": "markdown",
   "id": "6986f795",
   "metadata": {},
   "source": [
    "### important people"
   ]
  },
  {
   "cell_type": "code",
   "execution_count": 68,
   "id": "b082e64f",
   "metadata": {},
   "outputs": [],
   "source": [
    "important_ppl = ['Hillary Clinton', 'Bill Clinton', 'George Soros', 'Alex Soros', 'Vladimir Putin', 'Volodymyr Zelenskyy', 'Benjamin \"Bibi\"','Netanyahu', 'Mike Johnson', 'Stephen Miller', 'Karoline Leavitt', 'Eric Adams', 'Zohran Mamdani', 'Elon Musk']"
   ]
  },
  {
   "cell_type": "code",
   "execution_count": null,
   "id": "c5837460",
   "metadata": {},
   "outputs": [],
   "source": [
    "# Search for images of important people using Bing Images\n",
    "params = {\n",
    "    \"engine\": \"bing_images\",\n",
    "    \"hl\": \"en\",\n",
    "    \"gl\": \"us\",\n",
    "    \"api_key\":  SCRAPERAPI_KEY \n",
    "    }\n",
    "all_results = []\n",
    "\n",
    "for ppl in important_ppl:\n",
    "    params[\"q\"] = ppl\n",
    "    search = GoogleSearch(params)\n",
    "    results = search.get_dict()\n",
    "\n",
    "    images_results = results.get(\"images_results\", [])  # use .get to avoid errors if missing\n",
    "\n",
    "    for image in images_results:\n",
    "        all_results.append({\n",
    "            \"ppl\": ppl,\n",
    "            \"position\": image.get(\"position\"),\n",
    "            \"thumbnail\": image.get(\"thumbnail\"),\n",
    "            \"source\": image.get(\"source\"),\n",
    "            \"source_logo\": image.get(\"source_logo\"),\n",
    "            \"title\": image.get(\"title\"),\n",
    "            \"link\": image.get(\"link\"),\n",
    "            \"original\": image.get(\"original\")\n",
    "        })\n",
    "\n",
    "df3 = pd.DataFrame(all_results)"
   ]
  },
  {
   "cell_type": "code",
   "execution_count": 56,
   "id": "d3dfff52",
   "metadata": {},
   "outputs": [],
   "source": [
    "urls = df3['thumbnail'].tolist()\n",
    "sightengine = []\n",
    "for url in urls:\n",
    "    check_ai_generated(url, sightengine)\n",
    "df3['sightengine'] = sightengine"
   ]
  },
  {
   "cell_type": "code",
   "execution_count": 60,
   "id": "259f4b12",
   "metadata": {},
   "outputs": [
    {
     "data": {
      "text/html": [
       "<div>\n",
       "<style scoped>\n",
       "    .dataframe tbody tr th:only-of-type {\n",
       "        vertical-align: middle;\n",
       "    }\n",
       "\n",
       "    .dataframe tbody tr th {\n",
       "        vertical-align: top;\n",
       "    }\n",
       "\n",
       "    .dataframe thead th {\n",
       "        text-align: right;\n",
       "    }\n",
       "</style>\n",
       "<table border=\"1\" class=\"dataframe\">\n",
       "  <thead>\n",
       "    <tr style=\"text-align: right;\">\n",
       "      <th></th>\n",
       "      <th>ppl</th>\n",
       "      <th>position</th>\n",
       "      <th>thumbnail</th>\n",
       "      <th>source</th>\n",
       "      <th>source_logo</th>\n",
       "      <th>title</th>\n",
       "      <th>link</th>\n",
       "      <th>original</th>\n",
       "      <th>sightengine</th>\n",
       "    </tr>\n",
       "  </thead>\n",
       "  <tbody>\n",
       "  </tbody>\n",
       "</table>\n",
       "</div>"
      ],
      "text/plain": [
       "Empty DataFrame\n",
       "Columns: [ppl, position, thumbnail, source, source_logo, title, link, original, sightengine]\n",
       "Index: []"
      ]
     },
     "execution_count": 60,
     "metadata": {},
     "output_type": "execute_result"
    }
   ],
   "source": [
    "df3['sightengine'] = pd.to_numeric(df3['sightengine'], errors='coerce')\n",
    "df3[df3['sightengine'] > 0.4]"
   ]
  },
  {
   "cell_type": "code",
   "execution_count": 63,
   "id": "d6e0b1b5",
   "metadata": {},
   "outputs": [],
   "source": [
    "df3.to_csv('bing_important_ppl.csv', index=False)"
   ]
  },
  {
   "cell_type": "code",
   "execution_count": 70,
   "id": "438be7d9",
   "metadata": {},
   "outputs": [],
   "source": [
    "# search for images of important people using duckduckgo Images\n",
    "params = {\n",
    "    \"engine\": \"duckduckgo\",\n",
    "    \"api_key\":  SCRAPERAPI_KEY \n",
    "    }\n",
    "all_results = []\n",
    "\n",
    "for ppl in important_ppl:\n",
    "    params[\"q\"] = ppl\n",
    "    search = GoogleSearch(params)\n",
    "    results = search.get_dict()\n",
    "\n",
    "    images_results = results.get(\"inline_images\", [])  # use .get to avoid errors if missing\n",
    "\n",
    "    for image in images_results:\n",
    "        all_results.append({\n",
    "            \"ppl\": ppl,\n",
    "            \"position\": image.get(\"position\"),\n",
    "            \"image\": image.get(\"image\"),\n",
    "            \"title\": image.get(\"title\"),\n",
    "            \"link\": image.get(\"link\")\n",
    "        })\n",
    "\n",
    "df4 = pd.DataFrame(all_results)\n"
   ]
  },
  {
   "cell_type": "code",
   "execution_count": 74,
   "id": "2dd1cac5",
   "metadata": {},
   "outputs": [],
   "source": [
    "df4.to_csv('duckduckgo_important_ppl.csv', index=False)"
   ]
  },
  {
   "cell_type": "markdown",
   "id": "1f708f8d",
   "metadata": {},
   "source": [
    "# Youtube"
   ]
  },
  {
   "cell_type": "code",
   "execution_count": null,
   "id": "ae14571a",
   "metadata": {},
   "outputs": [],
   "source": [
    "import asyncio\n",
    "from playwright.async_api import async_playwright\n",
    "import nest_asyncio\n",
    "nest_asyncio.apply()\n",
    "\n",
    "async def scrape_thumbnails(search_query, scroll_times=3):\n",
    "    thumbnails = []\n",
    "\n",
    "    async with async_playwright() as p:\n",
    "        browser = await p.chromium.launch(headless=True)\n",
    "        page = await browser.new_page()\n",
    "\n",
    "        search_url = f\"https://www.youtube.com/results?search_query={search_query.replace(' ', '+')}\"\n",
    "        await page.goto(search_url)\n",
    "        await page.wait_for_selector(\"ytd-thumbnail img\")\n",
    "\n",
    "        for _ in range(scroll_times):\n",
    "            await page.mouse.wheel(0, 3000)\n",
    "            await asyncio.sleep(2)\n",
    "\n",
    "        elements = await page.query_selector_all(\"ytd-thumbnail img\")\n",
    "        for el in elements:\n",
    "            src = await el.get_attribute(\"src\")\n",
    "            if src and \"https://\" in src:\n",
    "                thumbnails.append(src)\n",
    "\n",
    "        await browser.close()\n",
    "        return thumbnails\n"
   ]
  },
  {
   "cell_type": "code",
   "execution_count": 99,
   "id": "ce5214be",
   "metadata": {},
   "outputs": [
    {
     "name": "stdout",
     "output_type": "stream",
     "text": [
      "Scraping thumbnails for Donald Trump\n",
      "Scraping thumbnails for Kamala Harris\n",
      "Scraping thumbnails for JD Vance\n",
      "Scraping thumbnails for Joe Biden\n",
      "Scraping thumbnails for Catherine, Princess of Wales\n",
      "Scraping thumbnails for Tim Walz\n",
      "Scraping thumbnails for Mike Tyson\n",
      "Scraping thumbnails for Jill Stein\n",
      "Scraping thumbnails for Usher\n",
      "Scraping thumbnails for Imane Khelif\n"
     ]
    }
   ],
   "source": [
    "all_results = []\n",
    "for ppl in top_search_people:\n",
    "    print(f\"Scraping thumbnails for {ppl}\")\n",
    "    time.sleep(5) \n",
    "    thumbnails = await scrape_thumbnails(ppl, scroll_times=20)\n",
    "    for thumbnail in thumbnails:\n",
    "        all_results.append({\n",
    "            \"ppl\": ppl,\n",
    "            \"thumbnail\": thumbnail\n",
    "        })\n",
    "\n",
    "df7 = pd.DataFrame(all_results)"
   ]
  },
  {
   "cell_type": "code",
   "execution_count": 101,
   "id": "a728ecf4",
   "metadata": {},
   "outputs": [],
   "source": [
    "df7.to_csv('youtube_top_search_ppl.csv', index=False)"
   ]
  },
  {
   "cell_type": "markdown",
   "id": "08aad6fe",
   "metadata": {},
   "source": []
  },
  {
   "cell_type": "markdown",
   "id": "e1893e4b",
   "metadata": {},
   "source": [
    "# Rumble"
   ]
  },
  {
   "cell_type": "code",
   "execution_count": null,
   "id": "c8b12e87",
   "metadata": {},
   "outputs": [
    {
     "data": {
      "text/html": [
       "<div>\n",
       "<style scoped>\n",
       "    .dataframe tbody tr th:only-of-type {\n",
       "        vertical-align: middle;\n",
       "    }\n",
       "\n",
       "    .dataframe tbody tr th {\n",
       "        vertical-align: top;\n",
       "    }\n",
       "\n",
       "    .dataframe thead th {\n",
       "        text-align: right;\n",
       "    }\n",
       "</style>\n",
       "<table border=\"1\" class=\"dataframe\">\n",
       "  <thead>\n",
       "    <tr style=\"text-align: right;\">\n",
       "      <th></th>\n",
       "      <th>Person</th>\n",
       "      <th>Image_URL</th>\n",
       "      <th>sightengine</th>\n",
       "    </tr>\n",
       "  </thead>\n",
       "  <tbody>\n",
       "    <tr>\n",
       "      <th>6</th>\n",
       "      <td>Donald Trump</td>\n",
       "      <td>https://i.ytimg.com/vi/Ytsnss5oJns/maxresdefau...</td>\n",
       "      <td>0.99</td>\n",
       "    </tr>\n",
       "    <tr>\n",
       "      <th>32</th>\n",
       "      <td>Donald Trump</td>\n",
       "      <td>https://i.ytimg.com/vi/PExqrkMVmek/maxres2.jpg...</td>\n",
       "      <td>0.99</td>\n",
       "    </tr>\n",
       "    <tr>\n",
       "      <th>42</th>\n",
       "      <td>Donald Trump</td>\n",
       "      <td>https://i.ytimg.com/vi/q6OAzlc-9VM/maxres2.jpg...</td>\n",
       "      <td>0.99</td>\n",
       "    </tr>\n",
       "  </tbody>\n",
       "</table>\n",
       "</div>"
      ],
      "text/plain": [
       "          Person                                          Image_URL  \\\n",
       "6   Donald Trump  https://i.ytimg.com/vi/Ytsnss5oJns/maxresdefau...   \n",
       "32  Donald Trump  https://i.ytimg.com/vi/PExqrkMVmek/maxres2.jpg...   \n",
       "42  Donald Trump  https://i.ytimg.com/vi/q6OAzlc-9VM/maxres2.jpg...   \n",
       "\n",
       "    sightengine  \n",
       "6          0.99  \n",
       "32         0.99  \n",
       "42         0.99  "
      ]
     },
     "metadata": {},
     "output_type": "display_data"
    }
   ],
   "source": [
    "async def scrape_rumble_thumbnails(search_query, scroll_times=3):\n",
    "    thumbnails = []\n",
    "\n",
    "    async with async_playwright() as p:\n",
    "        browser = await p.chromium.launch(headless=True)\n",
    "        page = await browser.new_page()\n",
    "\n",
    "        # Search URL for Rumble\n",
    "        search_url = f\"https://rumble.com/search/video?q={search_query.replace(' ', '+')}\"\n",
    "        await page.goto(search_url)\n",
    "        await page.wait_for_selector(\".video-item--a\")\n",
    "\n",
    "        # Scroll to load more\n",
    "        for _ in range(scroll_times):\n",
    "            await page.mouse.wheel(0, 3000)\n",
    "            await asyncio.sleep(2)\n",
    "\n",
    "        # Get thumbnail <img> elements\n",
    "        elements = await page.query_selector_all(\".video-item--a img\")\n",
    "        for el in elements:\n",
    "            src = await el.get_attribute(\"src\")\n",
    "            if src and \"https://\" in src and not src.endswith(\"placeholder.jpg\"):\n",
    "                thumbnails.append(src)\n",
    "\n",
    "        await browser.close()\n",
    "        return thumbnails"
   ]
  },
  {
   "cell_type": "code",
   "execution_count": null,
   "id": "cda92e50",
   "metadata": {},
   "outputs": [],
   "source": [
    "all_results = []\n",
    "for ppl in top_search_people:\n",
    "    print(f\"Scraping thumbnails for {ppl}\")\n",
    "    time.sleep(5) \n",
    "    thumbnails = await scrape_rumble_thumbnails(search_term, scroll_times=20)\n",
    "    for thumbnail in thumbnails:\n",
    "        all_results.append({\n",
    "            \"ppl\": ppl,\n",
    "            \"thumbnail\": thumbnail\n",
    "        })\n",
    "df = pd.DataFrame(all_results)"
   ]
  },
  {
   "cell_type": "code",
   "execution_count": null,
   "id": "1b80ae1e",
   "metadata": {},
   "outputs": [],
   "source": [
    "df.to_csv('rumble_top_ppl_search.csv')"
   ]
  },
  {
   "cell_type": "code",
   "execution_count": 102,
   "id": "30dad35e",
   "metadata": {},
   "outputs": [
    {
     "data": {
      "text/plain": [
       "(1578, 2)"
      ]
     },
     "execution_count": 102,
     "metadata": {},
     "output_type": "execute_result"
    }
   ],
   "source": [
    "arts = pd.read_csv('Arts_Entertainmenet.csv')\n",
    "arts.shape"
   ]
  },
  {
   "cell_type": "code",
   "execution_count": 104,
   "id": "c5e7059c",
   "metadata": {},
   "outputs": [
    {
     "data": {
      "text/plain": [
       "(1271, 2)"
      ]
     },
     "execution_count": 104,
     "metadata": {},
     "output_type": "execute_result"
    }
   ],
   "source": [
    "auto = pd.read_csv('Auto.csv')\n",
    "auto.shape"
   ]
  },
  {
   "cell_type": "code",
   "execution_count": 103,
   "id": "e7cfed0b",
   "metadata": {},
   "outputs": [
    {
     "data": {
      "text/plain": [
       "(1595, 2)"
      ]
     },
     "execution_count": 103,
     "metadata": {},
     "output_type": "execute_result"
    }
   ],
   "source": [
    "Beauty = pd.read_csv('Beauty.csv')\n",
    "Beauty.shape"
   ]
  },
  {
   "cell_type": "code",
   "execution_count": 106,
   "id": "e27b830e",
   "metadata": {},
   "outputs": [
    {
     "data": {
      "text/plain": [
       "(1481, 2)"
      ]
     },
     "execution_count": 106,
     "metadata": {},
     "output_type": "execute_result"
    }
   ],
   "source": [
    "Books = pd.read_csv('Book.csv')\n",
    "Books.shape"
   ]
  },
  {
   "cell_type": "code",
   "execution_count": 107,
   "id": "9b8dd13e",
   "metadata": {},
   "outputs": [
    {
     "data": {
      "text/plain": [
       "(1222, 2)"
      ]
     },
     "execution_count": 107,
     "metadata": {},
     "output_type": "execute_result"
    }
   ],
   "source": [
    "Computers = pd.read_csv('Computer.csv')\n",
    "Computers.shape"
   ]
  },
  {
   "cell_type": "code",
   "execution_count": 108,
   "id": "728bde09",
   "metadata": {},
   "outputs": [
    {
     "data": {
      "text/plain": [
       "(1027, 2)"
      ]
     },
     "execution_count": 108,
     "metadata": {},
     "output_type": "execute_result"
    }
   ],
   "source": [
    "Finance = pd.read_csv('Finance.csv')\n",
    "Finance.shape"
   ]
  },
  {
   "cell_type": "markdown",
   "id": "b6701322",
   "metadata": {},
   "source": []
  }
 ],
 "metadata": {
  "kernelspec": {
   "display_name": "3.12.7",
   "language": "python",
   "name": "python3"
  },
  "language_info": {
   "codemirror_mode": {
    "name": "ipython",
    "version": 3
   },
   "file_extension": ".py",
   "mimetype": "text/x-python",
   "name": "python",
   "nbconvert_exporter": "python",
   "pygments_lexer": "ipython3",
   "version": "3.12.7"
  }
 },
 "nbformat": 4,
 "nbformat_minor": 5
}
